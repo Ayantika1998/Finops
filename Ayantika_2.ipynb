{
  "nbformat": 4,
  "nbformat_minor": 0,
  "metadata": {
    "colab": {
      "provenance": [],
      "include_colab_link": true
    },
    "kernelspec": {
      "name": "python3",
      "display_name": "Python 3"
    },
    "language_info": {
      "name": "python"
    }
  },
  "cells": [
    {
      "cell_type": "markdown",
      "metadata": {
        "id": "view-in-github",
        "colab_type": "text"
      },
      "source": [
        "<a href=\"https://colab.research.google.com/github/Ayantika1998/Finops/blob/main/Ayantika_2.ipynb\" target=\"_parent\"><img src=\"https://colab.research.google.com/assets/colab-badge.svg\" alt=\"Open In Colab\"/></a>"
      ]
    },
    {
      "cell_type": "markdown",
      "source": [
        "#### **The \"word_finder\" function locates instances of a specific word, providing a unique list of the names where the word is used.**"
      ],
      "metadata": {
        "id": "wJ4aI73A2X81"
      }
    },
    {
      "cell_type": "markdown",
      "source": [
        "#### Run (Shift+Enter) the word_finder function\n",
        "\n"
      ],
      "metadata": {
        "id": "Hxjj0wyNzOlA"
      }
    },
    {
      "cell_type": "code",
      "source": [
        "def word_finder(word,log):\n",
        "  import pandas as pd\n",
        "  string = log\n",
        "  str1 = string.split(\" \")\n",
        "  warehouse_names = []\n",
        "\n",
        "  for i in range(0, len(str1)-1):\n",
        "    if word in str1[i]:\n",
        "        warehouse_names.append(str1[i])\n",
        "\n",
        "  unique_names=set(warehouse_names)\n",
        "  df_unique_names=pd.DataFrame(unique_names)\n",
        "  print(df_unique_names.to_string(index=False))"
      ],
      "metadata": {
        "id": "KE0ZfVZS29J9"
      },
      "execution_count": 1,
      "outputs": []
    },
    {
      "cell_type": "markdown",
      "source": [
        "#### Replace\n",
        "> 1. Replace the ***word to search*** with the word that we need to search\n",
        "> 2. Replace the ***log*** with the text body from where we need to search the specific word."
      ],
      "metadata": {
        "id": "ymtg7OTVy0Ty"
      }
    },
    {
      "cell_type": "code",
      "source": [
        "word_finder(\"word to search\", \"\"\"log\"\"\")"
      ],
      "metadata": {
        "id": "m2E9FpPx0BHR"
      },
      "execution_count": null,
      "outputs": []
    },
    {
      "cell_type": "markdown",
      "source": [
        "This is an **Example** how the Function works.\n",
        "\n",
        "Here we are searching Warehouse from the text body peresent between the triple quotes (\"\"\"  \"\"\")"
      ],
      "metadata": {
        "id": "bJ-42R0l1uqq"
      }
    },
    {
      "cell_type": "code",
      "source": [
        "word_finder(\"WAREHOUSE\",\"\"\"RqJoinNode <<856793931>> [(InNode:<<856793931>>) (OutNode:<<856793937>>) ]\n",
        "                                                        WAREHOUSE.IC_D_PRJ AS DIM_IC_D_PRJ\n",
        "                                                    RqJoinNode <<856793932>> [(InNode:<<856793932>>) (OutNode:<<856793937>>) ]\n",
        "                                                        WAREHOUSE.PS_D_MONTH AS Dim Time Yr Qtr Mn Hier\n",
        "                                                    RqJoinNode <<856793933>> [(InNode:<<856793933>>) (OutNode:<<856793937>>) ]\n",
        "                                                        WAREHOUSE.IC_D_ACCOUNT AS Dim Chart Of Account Hier\n",
        "                                                    RqJoinNode <<856793934>> [(InNode:<<856793934>>) (OutNode:<<856793937>>) ]\n",
        "                                                        WAREHOUSE.IC_D_ACCOUNT AS DIM_IC_D_ACCOUNT\n",
        "                                                    RqJoinNode <<856793935>> [(InNode:<<856793935>>) (OutNode:<<856793937>>) ]\n",
        "                                                        WAREHOUSE.PS_D_MONTH AS DIM_PS_D_MONTH\n",
        "                                                    RqJoinNode <<856793936>> [(InNode:<<856793936>>) (OutNode:<<856793937>>) ]\n",
        "                                                        WAREHOUSE.IC_D_CUSTOMER_DEPT AS DIM_IC_D_CUSTOMER_DEPT\n",
        "                                                    RqJoinNode <<856793937>> [(InNode:<<856793931>>)\"\"\")"
      ],
      "metadata": {
        "id": "s2HBGvrf5E_4",
        "colab": {
          "base_uri": "https://localhost:8080/"
        },
        "outputId": "f0a021a1-92e2-451b-999c-1141dcbab73d"
      },
      "execution_count": 2,
      "outputs": [
        {
          "output_type": "stream",
          "name": "stdout",
          "text": [
            "                           0\n",
            "WAREHOUSE.IC_D_CUSTOMER_DEPT\n",
            "          WAREHOUSE.IC_D_PRJ\n",
            "        WAREHOUSE.PS_D_MONTH\n",
            "      WAREHOUSE.IC_D_ACCOUNT\n"
          ]
        }
      ]
    }
  ]
}